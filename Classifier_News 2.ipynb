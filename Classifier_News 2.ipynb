{
 "cells": [
  {
   "cell_type": "code",
   "execution_count": 24,
   "id": "f7bfd4a5-c1a1-431c-8b05-5a6bd76f4f54",
   "metadata": {},
   "outputs": [],
   "source": [
    "# Import required libraries\n",
    "import pandas as pd\n",
    "import numpy as np\n",
    "import torch\n",
    "from torch import nn\n",
    "from transformers import BertTokenizer, BertModel\n",
    "from torch.utils.data import Dataset, DataLoader\n",
    "from sklearn.model_selection import train_test_split\n",
    "import gradio as gr\n",
    "from tqdm import tqdm\n",
    "import warnings\n",
    "warnings.filterwarnings('ignore')"
   ]
  },
  {
   "cell_type": "code",
   "execution_count": 26,
   "id": "c0e3d762-4fec-4e41-ba51-ee263077d388",
   "metadata": {},
   "outputs": [],
   "source": [
    "# Modify these parameters for faster training\n",
    "MAX_LENGTH = 128  # Reduced from 512\n",
    "BATCH_SIZE = 16   # Increased batch size\n",
    "SAMPLE_SIZE = 5000  # Number of samples to use from each class\n",
    "USE_SMALL_MODEL = True  # Use a smaller BERT model"
   ]
  },
  {
   "cell_type": "code",
   "execution_count": 28,
   "id": "7a1d13ac-423d-4123-8d87-6b2246f7d328",
   "metadata": {},
   "outputs": [
    {
     "name": "stdout",
     "output_type": "stream",
     "text": [
      "Loading datasets...\n"
     ]
    }
   ],
   "source": [
    "# 1. Load and prepare the data with sampling\n",
    "print(\"Loading datasets...\")\n",
    "true_df = pd.read_csv('True.csv').sample(n=SAMPLE_SIZE, random_state=42)\n",
    "fake_df = pd.read_csv('Fake.csv').sample(n=SAMPLE_SIZE, random_state=42)"
   ]
  },
  {
   "cell_type": "code",
   "execution_count": 30,
   "id": "2de132ed-2f61-4088-8470-4e2185328bf8",
   "metadata": {},
   "outputs": [],
   "source": [
    "# Add labels\n",
    "true_df['label'] = 1\n",
    "fake_df['label'] = 0"
   ]
  },
  {
   "cell_type": "code",
   "execution_count": 32,
   "id": "fb556387-276e-4cea-bb38-76b6197bebd1",
   "metadata": {},
   "outputs": [],
   "source": [
    "# Combine datasets\n",
    "df = pd.concat([true_df, fake_df], axis=0, ignore_index=True)"
   ]
  },
  {
   "cell_type": "code",
   "execution_count": 34,
   "id": "de7577c9-7d5c-43f2-ac6a-234280972bf5",
   "metadata": {},
   "outputs": [
    {
     "name": "stdout",
     "output_type": "stream",
     "text": [
      "Training samples: 8000, Validation samples: 2000\n"
     ]
    }
   ],
   "source": [
    "# Split the data\n",
    "train_df, val_df = train_test_split(df, test_size=0.2, random_state=42)\n",
    "print(f\"Training samples: {len(train_df)}, Validation samples: {len(val_df)}\")"
   ]
  },
  {
   "cell_type": "code",
   "execution_count": 36,
   "id": "d64655d0-62aa-4a7a-b454-1444abd0a9b7",
   "metadata": {},
   "outputs": [],
   "source": [
    "# 2. Modified Dataset class with shorter sequences\n",
    "class NewsDataset(Dataset):\n",
    "    def __init__(self, texts, labels, tokenizer, max_length=MAX_LENGTH):\n",
    "        self.texts = texts\n",
    "        self.labels = labels\n",
    "        self.tokenizer = tokenizer\n",
    "        self.max_length = max_length\n",
    "    \n",
    "    def __len__(self):\n",
    "        return len(self.texts)\n",
    "    \n",
    "    def __getitem__(self, idx):\n",
    "        text = str(self.texts[idx])\n",
    "        # Take first 1000 characters to speed up processing\n",
    "        text = text[:1000]\n",
    "        label = self.labels[idx]\n",
    "        \n",
    "        encoding = self.tokenizer.encode_plus(\n",
    "            text,\n",
    "            add_special_tokens=True,\n",
    "            max_length=self.max_length,\n",
    "            truncation=True,\n",
    "            padding='max_length',\n",
    "            return_attention_mask=True,\n",
    "            return_tensors='pt'\n",
    "        )\n",
    "        \n",
    "        return {\n",
    "            'input_ids': encoding['input_ids'].flatten(),\n",
    "            'attention_mask': encoding['attention_mask'].flatten(),\n",
    "            'label': torch.tensor(label, dtype=torch.long)\n",
    "        }"
   ]
  },
  {
   "cell_type": "code",
   "execution_count": 38,
   "id": "b7b425b8-db76-45c6-82d9-64450d41b2ec",
   "metadata": {},
   "outputs": [],
   "source": [
    "# 3. Modified BERT classifier with smaller model\n",
    "class BERTNewsClassifier(nn.Module):\n",
    "    def __init__(self, freeze_bert=True):  # Freeze BERT layers by default\n",
    "        super(BERTNewsClassifier, self).__init__()\n",
    "        # Use a smaller BERT model\n",
    "        model_name = 'prajjwal1/bert-tiny' if USE_SMALL_MODEL else 'bert-base-uncased'\n",
    "        self.bert = BertModel.from_pretrained(model_name)\n",
    "        \n",
    "        # Freeze BERT layers\n",
    "        if freeze_bert:\n",
    "            for param in self.bert.parameters():\n",
    "                param.requires_grad = False\n",
    "        \n",
    "        # Classification layers\n",
    "        hidden_size = 128 if USE_SMALL_MODEL else 768\n",
    "        self.dropout = nn.Dropout(0.3)\n",
    "        self.linear = nn.Linear(hidden_size, 2)\n",
    "        self.softmax = nn.Softmax(dim=1)\n",
    "    \n",
    "    def forward(self, input_ids, attention_mask):\n",
    "        outputs = self.bert(input_ids=input_ids, attention_mask=attention_mask)\n",
    "        pooled_output = outputs.pooler_output\n",
    "        x = self.dropout(pooled_output)\n",
    "        x = self.linear(x)\n",
    "        x = self.softmax(x)\n",
    "        return x"
   ]
  },
  {
   "cell_type": "code",
   "execution_count": 40,
   "id": "7efbf246-a5ae-4ddf-ad53-f09cad765549",
   "metadata": {},
   "outputs": [],
   "source": [
    "# 4. Modified training function with early stopping\n",
    "def train_model(model, train_loader, val_loader, criterion, optimizer, device, epochs=3):\n",
    "    best_val_accuracy = 0\n",
    "    patience = 2  # Number of epochs to wait for improvement\n",
    "    no_improve = 0\n",
    "    \n",
    "    for epoch in range(epochs):\n",
    "        print(f'\\nEpoch {epoch + 1}/{epochs}')\n",
    "        \n",
    "        # Training phase\n",
    "        model.train()\n",
    "        total_train_loss = 0\n",
    "        correct_train = 0\n",
    "        total_train = 0\n",
    "        \n",
    "        for batch in tqdm(train_loader, desc='Training'):\n",
    "            input_ids = batch['input_ids'].to(device)\n",
    "            attention_mask = batch['attention_mask'].to(device)\n",
    "            labels = batch['label'].to(device)\n",
    "            \n",
    "            optimizer.zero_grad()\n",
    "            outputs = model(input_ids, attention_mask)\n",
    "            loss = criterion(outputs, labels)\n",
    "            \n",
    "            loss.backward()\n",
    "            optimizer.step()\n",
    "            \n",
    "            total_train_loss += loss.item()\n",
    "            _, predicted = torch.max(outputs.data, 1)\n",
    "            correct_train += (predicted == labels).sum().item()\n",
    "            total_train += labels.size(0)\n",
    "        \n",
    "        # Quick validation check\n",
    "        model.eval()\n",
    "        correct_val = 0\n",
    "        total_val = 0\n",
    "        \n",
    "        with torch.no_grad():\n",
    "            for batch in tqdm(val_loader, desc='Validation'):\n",
    "                input_ids = batch['input_ids'].to(device)\n",
    "                attention_mask = batch['attention_mask'].to(device)\n",
    "                labels = batch['label'].to(device)\n",
    "                \n",
    "                outputs = model(input_ids, attention_mask)\n",
    "                _, predicted = torch.max(outputs.data, 1)\n",
    "                correct_val += (predicted == labels).sum().item()\n",
    "                total_val += labels.size(0)\n",
    "        \n",
    "        val_accuracy = correct_val / total_val\n",
    "        train_accuracy = correct_train / total_train\n",
    "        \n",
    "        print(f'Training Accuracy: {train_accuracy:.4f}')\n",
    "        print(f'Validation Accuracy: {val_accuracy:.4f}')\n",
    "        \n",
    "        # Early stopping check\n",
    "        if val_accuracy > best_val_accuracy:\n",
    "            best_val_accuracy = val_accuracy\n",
    "            torch.save(model.state_dict(), 'best_model.pth')\n",
    "            no_improve = 0\n",
    "        else:\n",
    "            no_improve += 1\n",
    "            if no_improve >= patience:\n",
    "                print(\"Early stopping triggered\")\n",
    "                break\n",
    "    \n",
    "    return best_val_accuracy"
   ]
  },
  {
   "cell_type": "code",
   "execution_count": 42,
   "id": "1d63cc37-865d-488c-9231-76247433c635",
   "metadata": {},
   "outputs": [
    {
     "name": "stdout",
     "output_type": "stream",
     "text": [
      "Initializing model and components...\n"
     ]
    },
    {
     "data": {
      "application/vnd.jupyter.widget-view+json": {
       "model_id": "26226bbd4cf042e88639abdbd94bea1d",
       "version_major": 2,
       "version_minor": 0
      },
      "text/plain": [
       "vocab.txt:   0%|          | 0.00/232k [00:00<?, ?B/s]"
      ]
     },
     "metadata": {},
     "output_type": "display_data"
    },
    {
     "data": {
      "application/vnd.jupyter.widget-view+json": {
       "model_id": "1e6517fea7b24a819908940c6e0cdcad",
       "version_major": 2,
       "version_minor": 0
      },
      "text/plain": [
       "config.json:   0%|          | 0.00/285 [00:00<?, ?B/s]"
      ]
     },
     "metadata": {},
     "output_type": "display_data"
    },
    {
     "data": {
      "application/vnd.jupyter.widget-view+json": {
       "model_id": "3840627aa7874277b2512843e7e78403",
       "version_major": 2,
       "version_minor": 0
      },
      "text/plain": [
       "pytorch_model.bin:   0%|          | 0.00/17.8M [00:00<?, ?B/s]"
      ]
     },
     "metadata": {},
     "output_type": "display_data"
    }
   ],
   "source": [
    "# 5. Initialize model and components\n",
    "print(\"Initializing model and components...\")\n",
    "device = torch.device('cuda' if torch.cuda.is_available() else 'cpu')\n",
    "model_name = 'prajjwal1/bert-tiny' if USE_SMALL_MODEL else 'bert-base-uncased'\n",
    "tokenizer = BertTokenizer.from_pretrained(model_name)\n",
    "model = BERTNewsClassifier().to(device)\n",
    "\n",
    "# Use a higher learning rate since we're using a smaller dataset\n",
    "optimizer = torch.optim.AdamW(model.parameters(), lr=5e-5)\n",
    "criterion = nn.CrossEntropyLoss()"
   ]
  },
  {
   "cell_type": "code",
   "execution_count": 44,
   "id": "e145f7e7-061b-45bb-bf49-2c3db47b21d8",
   "metadata": {},
   "outputs": [],
   "source": [
    "# 6. Create datasets and dataloaders\n",
    "train_dataset = NewsDataset(\n",
    "    train_df['text'].values, \n",
    "    train_df['label'].values,\n",
    "    tokenizer\n",
    ")\n",
    "\n",
    "val_dataset = NewsDataset(\n",
    "    val_df['text'].values,\n",
    "    val_df['label'].values,\n",
    "    tokenizer\n",
    ")\n",
    "\n",
    "train_loader = DataLoader(train_dataset, batch_size=BATCH_SIZE, shuffle=True)\n",
    "val_loader = DataLoader(val_dataset, batch_size=BATCH_SIZE)"
   ]
  },
  {
   "cell_type": "code",
   "execution_count": 46,
   "id": "62ed84c7-60d4-43b2-a159-09fb7e108c97",
   "metadata": {},
   "outputs": [
    {
     "name": "stdout",
     "output_type": "stream",
     "text": [
      "Starting training...\n",
      "\n",
      "Epoch 1/3\n"
     ]
    },
    {
     "name": "stderr",
     "output_type": "stream",
     "text": [
      "Training: 100%|███████████████████████████████| 500/500 [00:18<00:00, 27.35it/s]\n",
      "Validation: 100%|█████████████████████████████| 125/125 [00:03<00:00, 36.15it/s]\n"
     ]
    },
    {
     "name": "stdout",
     "output_type": "stream",
     "text": [
      "Training Accuracy: 0.5770\n",
      "Validation Accuracy: 0.7605\n",
      "\n",
      "Epoch 2/3\n"
     ]
    },
    {
     "name": "stderr",
     "output_type": "stream",
     "text": [
      "Training: 100%|███████████████████████████████| 500/500 [00:20<00:00, 24.18it/s]\n",
      "Validation: 100%|█████████████████████████████| 125/125 [00:03<00:00, 32.33it/s]\n"
     ]
    },
    {
     "name": "stdout",
     "output_type": "stream",
     "text": [
      "Training Accuracy: 0.6783\n",
      "Validation Accuracy: 0.8235\n",
      "\n",
      "Epoch 3/3\n"
     ]
    },
    {
     "name": "stderr",
     "output_type": "stream",
     "text": [
      "Training: 100%|███████████████████████████████| 500/500 [00:22<00:00, 22.45it/s]\n",
      "Validation: 100%|█████████████████████████████| 125/125 [00:04<00:00, 29.13it/s]"
     ]
    },
    {
     "name": "stdout",
     "output_type": "stream",
     "text": [
      "Training Accuracy: 0.7320\n",
      "Validation Accuracy: 0.8260\n",
      "\n",
      "Training completed! Best validation accuracy: 0.8260\n"
     ]
    },
    {
     "name": "stderr",
     "output_type": "stream",
     "text": [
      "\n"
     ]
    }
   ],
   "source": [
    "# 7. Train the model\n",
    "print(\"Starting training...\")\n",
    "best_accuracy = train_model(\n",
    "    model=model,\n",
    "    train_loader=train_loader,\n",
    "    val_loader=val_loader,\n",
    "    criterion=criterion,\n",
    "    optimizer=optimizer,\n",
    "    device=device,\n",
    "    epochs=3\n",
    ")\n",
    "\n",
    "print(f\"\\nTraining completed! Best validation accuracy: {best_accuracy:.4f}\")"
   ]
  },
  {
   "cell_type": "code",
   "execution_count": 48,
   "id": "6d3fb955-bb20-46b8-b439-e4402e7311f4",
   "metadata": {},
   "outputs": [],
   "source": [
    "# 8. Create prediction function for Gradio\n",
    "def predict_news(text):\n",
    "    model.eval()\n",
    "    encoding = tokenizer.encode_plus(\n",
    "        text,\n",
    "        add_special_tokens=True,\n",
    "        max_length=512,\n",
    "        truncation=True,\n",
    "        padding='max_length',\n",
    "        return_attention_mask=True,\n",
    "        return_tensors='pt'\n",
    "    )\n",
    "    \n",
    "    input_ids = encoding['input_ids'].to(device)\n",
    "    attention_mask = encoding['attention_mask'].to(device)\n",
    "    \n",
    "    with torch.no_grad():\n",
    "        outputs = model(input_ids, attention_mask)\n",
    "        probabilities = outputs[0]\n",
    "        prediction = torch.argmax(probabilities).item()\n",
    "        confidence = probabilities[prediction].item()\n",
    "    \n",
    "    result = \"TRUE\" if prediction == 1 else \"FAKE\"\n",
    "    return {\n",
    "        \"classification\": result,\n",
    "        \"confidence\": f\"{confidence:.2%}\",\n",
    "        \"probabilities\": {\n",
    "            \"fake\": f\"{probabilities[0].item():.2%}\",\n",
    "            \"true\": f\"{probabilities[1].item():.2%}\"\n",
    "        }\n",
    "    }"
   ]
  },
  {
   "cell_type": "code",
   "execution_count": 50,
   "id": "8f94cdb4-856a-4c5a-98d2-0607ed70bc85",
   "metadata": {},
   "outputs": [],
   "source": [
    "# 9. Create and launch Gradio interface\n",
    "def create_gradio_interface():\n",
    "    def process_text(text):\n",
    "        result = predict_news(text)\n",
    "        \n",
    "        output_text = f\"\"\"\n",
    "        ## Classification: {result['classification']}\n",
    "        \n",
    "        Confidence: {result['confidence']}\n",
    "        \n",
    "        ### Probability Breakdown:\n",
    "        - True: {result['probabilities']['true']}\n",
    "        - Fake: {result['probabilities']['fake']}\n",
    "        \"\"\"\n",
    "        \n",
    "        return output_text\n",
    "    \n",
    "    iface = gr.Interface(\n",
    "        fn=process_text,\n",
    "        inputs=[\n",
    "            gr.Textbox(\n",
    "                lines=10,\n",
    "                label=\"News Article Text\",\n",
    "                placeholder=\"Paste the news article text here...\"\n",
    "            )\n",
    "        ],\n",
    "        outputs=[\n",
    "            gr.Markdown(label=\"Analysis Result\")\n",
    "        ],\n",
    "        title=\"BERT News Classifier\",\n",
    "        description=\"Analyze news articles to determine if they're likely true or fake\",\n",
    "        examples=[\n",
    "            [\"Scientists discover new species of butterfly in Amazon rainforest\"],\n",
    "            [\"5G networks spread coronavirus according to new study\"]\n",
    "        ],\n",
    "        theme=\"default\"\n",
    "    )\n",
    "    \n",
    "    return iface"
   ]
  },
  {
   "cell_type": "code",
   "execution_count": 52,
   "id": "44447d65-6bb7-429d-a918-8e8d2b7236d0",
   "metadata": {},
   "outputs": [
    {
     "name": "stdout",
     "output_type": "stream",
     "text": [
      "Launching Gradio interface...\n"
     ]
    },
    {
     "name": "stderr",
     "output_type": "stream",
     "text": [
      "python(5459) MallocStackLogging: can't turn off malloc stack logging because it was not enabled.\n"
     ]
    },
    {
     "name": "stdout",
     "output_type": "stream",
     "text": [
      "* Running on local URL:  http://127.0.0.1:7860\n"
     ]
    },
    {
     "name": "stderr",
     "output_type": "stream",
     "text": [
      "python(5461) MallocStackLogging: can't turn off malloc stack logging because it was not enabled.\n"
     ]
    },
    {
     "name": "stdout",
     "output_type": "stream",
     "text": [
      "* Running on public URL: https://8469865a796edebe4c.gradio.live\n",
      "\n",
      "This share link expires in 72 hours. For free permanent hosting and GPU upgrades, run `gradio deploy` from the terminal in the working directory to deploy to Hugging Face Spaces (https://huggingface.co/spaces)\n"
     ]
    },
    {
     "data": {
      "text/html": [
       "<div><iframe src=\"https://8469865a796edebe4c.gradio.live\" width=\"100%\" height=\"500\" allow=\"autoplay; camera; microphone; clipboard-read; clipboard-write;\" frameborder=\"0\" allowfullscreen></iframe></div>"
      ],
      "text/plain": [
       "<IPython.core.display.HTML object>"
      ]
     },
     "metadata": {},
     "output_type": "display_data"
    },
    {
     "data": {
      "text/plain": []
     },
     "execution_count": 52,
     "metadata": {},
     "output_type": "execute_result"
    }
   ],
   "source": [
    "# Launch the interface\n",
    "print(\"Launching Gradio interface...\")\n",
    "interface = create_gradio_interface()\n",
    "interface.launch(share=True)"
   ]
  },
  {
   "cell_type": "code",
   "execution_count": null,
   "id": "de0ba02c-2e35-4091-a47a-689502713422",
   "metadata": {},
   "outputs": [],
   "source": []
  }
 ],
 "metadata": {
  "kernelspec": {
   "display_name": "Python 3 (ipykernel)",
   "language": "python",
   "name": "python3"
  },
  "language_info": {
   "codemirror_mode": {
    "name": "ipython",
    "version": 3
   },
   "file_extension": ".py",
   "mimetype": "text/x-python",
   "name": "python",
   "nbconvert_exporter": "python",
   "pygments_lexer": "ipython3",
   "version": "3.11.5"
  }
 },
 "nbformat": 4,
 "nbformat_minor": 5
}
